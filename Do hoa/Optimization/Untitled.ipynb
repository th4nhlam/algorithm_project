{
 "cells": [
  {
   "cell_type": "code",
   "execution_count": 8,
   "id": "2433c78c",
   "metadata": {},
   "outputs": [
    {
     "data": {
      "image/png": "[encoded data removed]",
      "text/plain": [
       "<Figure size 432x288 with 1 Axes>"
      ]
     },
     "metadata": {
      "needs_background": "light"
     },
     "output_type": "display_data"
    }
   ],
   "source": [
    "import numpy as np \n",
    "from matplotlib import pyplot as plt \n",
    "import math\n",
    "\n",
    "x = np.linspace(-10,11) \n",
    "y = x * x + 10*np.sin(x); \n",
    "plt.title(\"Matplotlib demo\") \n",
    "plt.xlabel(\"x axis caption\") \n",
    "plt.ylabel(\"y axis caption\") \n",
    "plt.plot(x,y) \n",
    "plt.show()"
   ]
  },
  {
   "cell_type": "code",
   "execution_count": 7,
   "id": "2fdf74b2",
   "metadata": {},
   "outputs": [
    {
     "data": {
      "text/plain": [
       "1.0"
      ]
     },
     "execution_count": 7,
     "metadata": {},
     "output_type": "execute_result"
    }
   ],
   "source": []
  },
  {
   "cell_type": "code",
   "execution_count": 9,
   "id": "15844142",
   "metadata": {},
   "outputs": [
    {
     "name": "stdout",
     "output_type": "stream",
     "text": [
      "GD_Solution x1 = 3.836788, cost = 8.315588, obtained after 4 iterations\n",
      "Momentum_Solution x2 = -1.306440, cost = -7.945823, obtained after 999 iterations\n"
     ]
    },
    {
     "data": {
      "image/png": "[encoded data removed]",
      "text/plain": [
       "<Figure size 432x288 with 1 Axes>"
      ]
     },
     "metadata": {
      "needs_background": "light"
     },
     "output_type": "display_data"
    }
   ],
   "source": [
    "import numpy as np\n",
    "import matplotlib.pyplot as plt\n",
    "\n",
    "def grad(x): # f'(x)\n",
    "    return 2 * x + 10 * np.cos(x)\n",
    "\n",
    "def cost(x): # f(x) x^2 + 10x sin(x)\n",
    "    return x ** 2 + 10 * np.sin(x)\n",
    "\n",
    "def GD_momentum(theta_init, alpha=0.1, beta=0.9, Loop = 1000):\n",
    "    theta = [theta_init]\n",
    "    v_old = np.zeros_like(theta_init)\n",
    "\n",
    "    for it in range(Loop):\n",
    "        v_new = beta * v_old + alpha * grad(theta[-1]) # vt\n",
    "        theta_new = theta[-1] - v_new\n",
    "        theta.append(theta_new)\n",
    "        v_old = v_new\n",
    "\n",
    "    return (theta,it)\n",
    "\n",
    "def myGD1(x0, alpha=0.1, gra = 1e-3, loop = 1000):\n",
    "    x = [x0]\n",
    "\n",
    "    for it in range(loop):\n",
    "        x_new = x[-1] - alpha * grad(x[-1])\n",
    "        if abs(grad(x_new)) < gra:\n",
    "            break\n",
    "        x.append(x_new)\n",
    "\n",
    "    return (x, it)\n",
    "\n",
    "if __name__ == '__main__':\n",
    "    X = np.linspace(-5,5,200)\n",
    "    y = cost(X)\n",
    "    plt.plot(X.T, y.T, 'r.')\n",
    "    plt.axis([-5, 5, -10, 15])\n",
    "    (x1, it1) = myGD1(5,0.1)\n",
    "    print('GD_Solution x1 = %f, cost = %f, obtained after %d iterations'%(x1[-1], cost(x1[-1]), it1))\n",
    "    plt.plot(x1[-1], cost(x1[-1]), 'r X')\n",
    "    (x2, it2) = GD_momentum(5, 0.1, beta=0.9)\n",
    "    print('Momentum_Solution x2 = %f, cost = %f, obtained after %d iterations'%(x2[-1], cost(x2[-1]), it2))\n",
    "    plt.plot(x2[-1], cost(x2[-1]), 'b X')\n",
    "    plt.show()"
   ]
  },
  {
   "cell_type": "code",
   "execution_count": 2,
   "id": "33c82533",
   "metadata": {},
   "outputs": [
    {
     "name": "stdout",
     "output_type": "stream",
     "text": [
      "Emil Refsnes\n",
      "Tobias Refsnes\n",
      "Linus Refsnes\n"
     ]
    }
   ],
   "source": [
    "def my_function(fname):\n",
    "  print(fname + \" Refsnes\")\n",
    "\n",
    "my_function(\"Emil\")\n",
    "my_function(\"Tobias\")\n",
    "my_function(\"Linus\")"
   ]
  },
  {
   "cell_type": "code",
   "execution_count": 5,
   "id": "0a164d9b",
   "metadata": {},
   "outputs": [
    {
     "data": {
      "image/png": "[encoded data removed]",
      "text/plain": [
       "<Figure size 432x288 with 1 Axes>"
      ]
     },
     "metadata": {
      "needs_background": "light"
     },
     "output_type": "display_data"
    }
   ],
   "source": [
    "import matplotlib.pyplot as plt\n",
    "import matplotlib.animation as animation\n",
    "\n",
    "# Acceleration due to gravity, m.s-2.\n",
    "g = 9.81\n",
    "# The maximum x-range of ball's trajectory to plot.\n",
    "XMAX = 5\n",
    "# The coefficient of restitution for bounces (-v_up/v_down).\n",
    "cor = 0.65\n",
    "# The time step for the animation.\n",
    "dt = 0.005\n",
    "\n",
    "# Initial position and velocity vectors.\n",
    "x0, y0 = 0, 4\n",
    "vx0, vy0 = 1, 0\n",
    "\n",
    "def get_pos(t=0):\n",
    "    \"\"\"A generator yielding the ball's position at time t.\"\"\"\n",
    "    x, y, vx, vy = x0, y0, vx0, vy0\n",
    "    while x < XMAX:\n",
    "        t += dt\n",
    "        x += vx0 * dt\n",
    "        y += vy * dt\n",
    "        vy -= g * dt\n",
    "        if y < 0:\n",
    "            # bounce!\n",
    "            y = 0\n",
    "            vy = -vy * cor \n",
    "        yield x, y\n",
    "\n",
    "def init():\n",
    "    \"\"\"Initialize the animation figure.\"\"\"\n",
    "    ax.set_xlim(0, XMAX)\n",
    "    ax.set_ylim(0, y0)\n",
    "    ax.set_xlabel('$x$ /m')\n",
    "    ax.set_ylabel('$y$ /m')\n",
    "    line.set_data(xdata, ydata)\n",
    "    ball.set_center((x0, y0))\n",
    "    height_text.set_text(f'Height: {y0:.1f} m')\n",
    "    return line, ball, height_text\n",
    "\n",
    "def animate(pos):\n",
    "    \"\"\"For each frame, advance the animation to the new position, pos.\"\"\"\n",
    "    x, y = pos\n",
    "    xdata.append(x)\n",
    "    ydata.append(y)\n",
    "    line.set_data(xdata, ydata)\n",
    "    ball.set_center((x, y))\n",
    "    height_text.set_text(f'Height: {y:.1f} m')\n",
    "    return line, ball, height_text\n",
    "\n",
    "# Set up a new Figure, with equal aspect ratio so the ball appears round.\n",
    "fig, ax = plt.subplots()\n",
    "ax.set_aspect('equal')\n",
    "\n",
    "# These are the objects we need to keep track of.\n",
    "line, = ax.plot([], [], lw=2)\n",
    "ball = plt.Circle((x0, y0), 0.08)\n",
    "height_text = ax.text(XMAX*0.5, y0*0.8, f'Height: {y0:.1f} m')\n",
    "ax.add_patch(ball)\n",
    "xdata, ydata = [], []\n",
    "\n",
    "interval = 1000*dt\n",
    "ani = animation.FuncAnimation(fig, animate, get_pos, blit=True,\n",
    "                      interval=interval, repeat=False, init_func=init)\n",
    "plt.show()"
   ]
  },
  {
   "cell_type": "code",
   "execution_count": null,
   "id": "543a985c",
   "metadata": {},
   "outputs": [],
   "source": []
  },
  {
   "cell_type": "code",
   "execution_count": null,
   "id": "86228881",
   "metadata": {},
   "outputs": [],
   "source": []
  }
 ],
 "metadata": {
  "kernelspec": {
   "display_name": "Python 3 (ipykernel)",
   "language": "python",
   "name": "python3"
  },
  "language_info": {
   "codemirror_mode": {
    "name": "ipython",
    "version": 3
   },
   "file_extension": ".py",
   "mimetype": "text/x-python",
   "name": "python",
   "nbconvert_exporter": "python",
   "pygments_lexer": "ipython3",
   "version": "3.10.5"
  }
 },
 "nbformat": 4,
 "nbformat_minor": 5
}
